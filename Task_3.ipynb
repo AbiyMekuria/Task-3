{
 "cells": [
  {
   "cell_type": "markdown",
   "id": "edc3de6e-635b-4a57-aa3f-e4538626d0da",
   "metadata": {},
   "source": [
    "### QKN1 — QKN1 Task 3: Presentation\n",
    "### Analytics Programming — D598\n",
    "### Abiy Mekuria\n",
    "### Western Governors University\n",
    "### Analytics Programming — D598\n",
    "### Keiona Middleton\n",
    "### August 27, 2025\n"
   ]
  },
  {
   "cell_type": "code",
   "execution_count": null,
   "id": "82a389b3-19ea-4b48-9f49-af66b4146fd6",
   "metadata": {},
   "outputs": [],
   "source": [
    " #!/usr/bin/env python\n",
    "# coding: utf-8"
   ]
  },
  {
   "cell_type": "code",
   "execution_count": 5,
   "id": "ab449359-93f8-475a-9c87-822a95b1fa0c",
   "metadata": {},
   "outputs": [],
   "source": [
    "import pandas as pd\n",
    "import pandas as pd          # for data handling\n",
    "import matplotlib.pyplot as plt   # for plotting (bar, histogram, scatter, pie)\n",
    "import seaborn as sns        # for prettier charts "
   ]
  },
  {
   "cell_type": "markdown",
   "id": "eb44ba5c-70b2-4e37-9e87-bc8dacb99ef5",
   "metadata": {},
   "source": [
    " ### A:CODE"
   ]
  },
  {
   "cell_type": "code",
   "execution_count": 38,
   "id": "3e42d8b6-e61b-4e1b-ab4e-42203cc3f70b",
   "metadata": {
    "scrolled": true
   },
   "outputs": [
    {
     "data": {
      "text/html": [
       "<div>\n",
       "<style scoped>\n",
       "    .dataframe tbody tr th:only-of-type {\n",
       "        vertical-align: middle;\n",
       "    }\n",
       "\n",
       "    .dataframe tbody tr th {\n",
       "        vertical-align: top;\n",
       "    }\n",
       "\n",
       "    .dataframe thead th {\n",
       "        text-align: right;\n",
       "    }\n",
       "</style>\n",
       "<table border=\"1\" class=\"dataframe\">\n",
       "  <thead>\n",
       "    <tr style=\"text-align: right;\">\n",
       "      <th></th>\n",
       "      <th>Business ID</th>\n",
       "      <th>Total Long-term Debt</th>\n",
       "      <th>Total Equity</th>\n",
       "      <th>Debt to Equity</th>\n",
       "      <th>Total Liabilities</th>\n",
       "      <th>Total Revenue</th>\n",
       "      <th>Profit Margin</th>\n",
       "    </tr>\n",
       "    <tr>\n",
       "      <th>Business State</th>\n",
       "      <th></th>\n",
       "      <th></th>\n",
       "      <th></th>\n",
       "      <th></th>\n",
       "      <th></th>\n",
       "      <th></th>\n",
       "      <th></th>\n",
       "    </tr>\n",
       "  </thead>\n",
       "  <tbody>\n",
       "    <tr>\n",
       "      <th>Alabama</th>\n",
       "      <td>1.599117e+09</td>\n",
       "      <td>6.743890e+08</td>\n",
       "      <td>1.441039e+09</td>\n",
       "      <td>0.345473</td>\n",
       "      <td>1.893946e+09</td>\n",
       "      <td>6.968309e+08</td>\n",
       "      <td>0.403732</td>\n",
       "    </tr>\n",
       "    <tr>\n",
       "      <th>Arizona</th>\n",
       "      <td>9.445082e+09</td>\n",
       "      <td>6.508800e+07</td>\n",
       "      <td>5.915300e+07</td>\n",
       "      <td>1.100333</td>\n",
       "      <td>1.109380e+08</td>\n",
       "      <td>2.155800e+08</td>\n",
       "      <td>0.206902</td>\n",
       "    </tr>\n",
       "    <tr>\n",
       "      <th>Arkansas</th>\n",
       "      <td>8.411162e+09</td>\n",
       "      <td>8.960450e+07</td>\n",
       "      <td>1.082420e+08</td>\n",
       "      <td>0.844746</td>\n",
       "      <td>2.138820e+08</td>\n",
       "      <td>4.789090e+08</td>\n",
       "      <td>0.098319</td>\n",
       "    </tr>\n",
       "    <tr>\n",
       "      <th>California</th>\n",
       "      <td>1.063053e+10</td>\n",
       "      <td>3.273964e+07</td>\n",
       "      <td>4.535982e+07</td>\n",
       "      <td>0.169920</td>\n",
       "      <td>8.018100e+07</td>\n",
       "      <td>8.869559e+07</td>\n",
       "      <td>0.287947</td>\n",
       "    </tr>\n",
       "    <tr>\n",
       "      <th>Colorado</th>\n",
       "      <td>9.966963e+09</td>\n",
       "      <td>8.470025e+07</td>\n",
       "      <td>2.007589e+08</td>\n",
       "      <td>0.619971</td>\n",
       "      <td>1.454528e+08</td>\n",
       "      <td>2.486542e+08</td>\n",
       "      <td>0.346033</td>\n",
       "    </tr>\n",
       "  </tbody>\n",
       "</table>\n",
       "</div>"
      ],
      "text/plain": [
       "                 Business ID  Total Long-term Debt  Total Equity  \\\n",
       "Business State                                                     \n",
       "Alabama         1.599117e+09          6.743890e+08  1.441039e+09   \n",
       "Arizona         9.445082e+09          6.508800e+07  5.915300e+07   \n",
       "Arkansas        8.411162e+09          8.960450e+07  1.082420e+08   \n",
       "California      1.063053e+10          3.273964e+07  4.535982e+07   \n",
       "Colorado        9.966963e+09          8.470025e+07  2.007589e+08   \n",
       "\n",
       "                Debt to Equity  Total Liabilities  Total Revenue  \\\n",
       "Business State                                                     \n",
       "Alabama               0.345473       1.893946e+09   6.968309e+08   \n",
       "Arizona               1.100333       1.109380e+08   2.155800e+08   \n",
       "Arkansas              0.844746       2.138820e+08   4.789090e+08   \n",
       "California            0.169920       8.018100e+07   8.869559e+07   \n",
       "Colorado              0.619971       1.454528e+08   2.486542e+08   \n",
       "\n",
       "                Profit Margin  \n",
       "Business State                 \n",
       "Alabama              0.403732  \n",
       "Arizona              0.206902  \n",
       "Arkansas             0.098319  \n",
       "California           0.287947  \n",
       "Colorado             0.346033  "
      ]
     },
     "execution_count": 38,
     "metadata": {},
     "output_type": "execute_result"
    }
   ],
   "source": [
    "# Loading and Displaying Data\n",
    "df = pd.read_excel(\"/Users/behailu/Desktop/WGU-Workspace/Task2/D598 Data Set.xlsx\")\n",
    "\n",
    "df2 = df.groupby(\"Business State\").mean(numeric_only=True)\n",
    "df2.head()"
   ]
  },
  {
   "cell_type": "code",
   "execution_count": 40,
   "id": "7ad2b3a6-b382-46e2-a6b0-bae99a08fc40",
   "metadata": {},
   "outputs": [
    {
     "data": {
      "text/plain": [
       "0    0.935886\n",
       "1    0.341758\n",
       "2    0.107951\n",
       "3    0.421820\n",
       "4    0.084665\n",
       "Name: Debt_to_Equity_Calc, dtype: float64"
      ]
     },
     "execution_count": 40,
     "metadata": {},
     "output_type": "execute_result"
    }
   ],
   "source": [
    "df[\"Debt_to_Equity_Calc\"] = df[\"Total Long-term Debt\"]/df[\"Total Equity\"]\n",
    "df[\"Debt_to_Equity_Calc\"].head()"
   ]
  },
  {
   "cell_type": "code",
   "execution_count": 42,
   "id": "2477cd18-e987-43c8-9f25-5adfadc71242",
   "metadata": {},
   "outputs": [
    {
     "data": {
      "text/html": [
       "<div>\n",
       "<style scoped>\n",
       "    .dataframe tbody tr th:only-of-type {\n",
       "        vertical-align: middle;\n",
       "    }\n",
       "\n",
       "    .dataframe tbody tr th {\n",
       "        vertical-align: top;\n",
       "    }\n",
       "\n",
       "    .dataframe thead th {\n",
       "        text-align: right;\n",
       "    }\n",
       "</style>\n",
       "<table border=\"1\" class=\"dataframe\">\n",
       "  <thead>\n",
       "    <tr style=\"text-align: right;\">\n",
       "      <th></th>\n",
       "      <th>Business ID</th>\n",
       "      <th>Business State</th>\n",
       "      <th>Debt_to_Equity_Calc</th>\n",
       "      <th>Profit Margin</th>\n",
       "      <th>Profitability</th>\n",
       "    </tr>\n",
       "  </thead>\n",
       "  <tbody>\n",
       "    <tr>\n",
       "      <th>0</th>\n",
       "      <td>41872013</td>\n",
       "      <td>Kentucky</td>\n",
       "      <td>0.94</td>\n",
       "      <td>0.023663</td>\n",
       "      <td>Profitable</td>\n",
       "    </tr>\n",
       "    <tr>\n",
       "      <th>1</th>\n",
       "      <td>76232013</td>\n",
       "      <td>Iowa</td>\n",
       "      <td>0.34</td>\n",
       "      <td>0.265015</td>\n",
       "      <td>Profitable</td>\n",
       "    </tr>\n",
       "    <tr>\n",
       "      <th>2</th>\n",
       "      <td>160992013</td>\n",
       "      <td>Texas</td>\n",
       "      <td>0.11</td>\n",
       "      <td>0.130413</td>\n",
       "      <td>Profitable</td>\n",
       "    </tr>\n",
       "    <tr>\n",
       "      <th>3</th>\n",
       "      <td>197452013</td>\n",
       "      <td>Delaware</td>\n",
       "      <td>0.42</td>\n",
       "      <td>0.196768</td>\n",
       "      <td>Profitable</td>\n",
       "    </tr>\n",
       "    <tr>\n",
       "      <th>4</th>\n",
       "      <td>241042013</td>\n",
       "      <td>Illinois</td>\n",
       "      <td>0.08</td>\n",
       "      <td>0.168305</td>\n",
       "      <td>Profitable</td>\n",
       "    </tr>\n",
       "  </tbody>\n",
       "</table>\n",
       "</div>"
      ],
      "text/plain": [
       "   Business ID Business State  Debt_to_Equity_Calc  Profit Margin  \\\n",
       "0     41872013       Kentucky                 0.94       0.023663   \n",
       "1     76232013           Iowa                 0.34       0.265015   \n",
       "2    160992013          Texas                 0.11       0.130413   \n",
       "3    197452013       Delaware                 0.42       0.196768   \n",
       "4    241042013       Illinois                 0.08       0.168305   \n",
       "\n",
       "  Profitability  \n",
       "0    Profitable  \n",
       "1    Profitable  \n",
       "2    Profitable  \n",
       "3    Profitable  \n",
       "4    Profitable  "
      ]
     },
     "execution_count": 42,
     "metadata": {},
     "output_type": "execute_result"
    }
   ],
   "source": [
    "#Summary of Analyzed dataset\n",
    "summary_table = df[[\"Business ID\", \"Business State\", \"Debt_to_Equity_Calc\", \"Profit Margin\"]].copy()\n",
    "summary_table[\"Debt_to_Equity_Calc\"] = summary_table[\"Debt_to_Equity_Calc\"].round(2)\n",
    "summary_table[\"Profitability\"] = summary_table[\"Profit Margin\"].apply(\n",
    "    lambda x: \"Profitable\" if x > 0 else \"Not Profitable\"\n",
    ")\n",
    "summary_table.head()"
   ]
  },
  {
   "cell_type": "markdown",
   "id": "4f090a1a-4fbc-4eb8-a75e-ed928e08244e",
   "metadata": {},
   "source": [
    "### B:VISUALIZATIONS\n",
    "> 4 customazed chart"
   ]
  },
  {
   "cell_type": "code",
   "execution_count": 45,
   "id": "dfbd14f2-edde-4c36-8547-2f71dc6572ea",
   "metadata": {},
   "outputs": [
    {
     "data": {
      "text/plain": [
       "<AxesSubplot:xlabel='Business State'>"
      ]
     },
     "execution_count": 45,
     "metadata": {},
     "output_type": "execute_result"
    },
    {
     "data": {
      "image/png": "[encoded data removed]",
      "text/plain": [
       "<Figure size 640x480 with 1 Axes>"
      ]
     },
     "metadata": {},
     "output_type": "display_data"
    }
   ],
   "source": [
    "# 1.Bar Chart – Average Debt-to-Equity by State\n",
    "df.groupby(\"Business State\")[\"Debt_to_Equity_Calc\"].mean().plot(kind=\"bar\")"
   ]
  },
  {
   "cell_type": "code",
   "execution_count": 47,
   "id": "8b0432b4-2a59-4211-b1d7-95ee324b6ea0",
   "metadata": {},
   "outputs": [
    {
     "ename": "KeyError",
     "evalue": "'Profitability'",
     "output_type": "error",
     "traceback": [
      "\u001b[0;31m---------------------------------------------------------------------------\u001b[0m",
      "\u001b[0;31mKeyError\u001b[0m                                  Traceback (most recent call last)",
      "\u001b[0;32m/var/folders/3g/98jdlv891px6g17f2hrrx_v80000gn/T/ipykernel_76192/409457840.py\u001b[0m in \u001b[0;36m<module>\u001b[0;34m\u001b[0m\n\u001b[0;32m----> 1\u001b[0;31m \u001b[0mstate_profit\u001b[0m \u001b[0;34m=\u001b[0m \u001b[0mdf\u001b[0m\u001b[0;34m.\u001b[0m\u001b[0mgroupby\u001b[0m\u001b[0;34m(\u001b[0m\u001b[0;34m[\u001b[0m\u001b[0;34m\"Business State\"\u001b[0m\u001b[0;34m,\u001b[0m \u001b[0;34m\"Profitability\"\u001b[0m\u001b[0;34m]\u001b[0m\u001b[0;34m)\u001b[0m\u001b[0;34m[\u001b[0m\u001b[0;34m\"Business ID\"\u001b[0m\u001b[0;34m]\u001b[0m\u001b[0;34m.\u001b[0m\u001b[0mcount\u001b[0m\u001b[0;34m(\u001b[0m\u001b[0;34m)\u001b[0m\u001b[0;34m.\u001b[0m\u001b[0munstack\u001b[0m\u001b[0;34m(\u001b[0m\u001b[0mfill_value\u001b[0m\u001b[0;34m=\u001b[0m\u001b[0;36m0\u001b[0m\u001b[0;34m)\u001b[0m\u001b[0;34m\u001b[0m\u001b[0;34m\u001b[0m\u001b[0m\n\u001b[0m\u001b[1;32m      2\u001b[0m \u001b[0mstate_profit\u001b[0m\u001b[0;34m.\u001b[0m\u001b[0mplot\u001b[0m\u001b[0;34m(\u001b[0m\u001b[0mkind\u001b[0m\u001b[0;34m=\u001b[0m\u001b[0;34m\"bar\"\u001b[0m\u001b[0;34m,\u001b[0m \u001b[0mstacked\u001b[0m\u001b[0;34m=\u001b[0m \u001b[0;32mTrue\u001b[0m\u001b[0;34m,\u001b[0m \u001b[0mfigsize\u001b[0m\u001b[0;34m=\u001b[0m\u001b[0;34m(\u001b[0m\u001b[0;36m10\u001b[0m\u001b[0;34m,\u001b[0m\u001b[0;36m6\u001b[0m\u001b[0;34m)\u001b[0m\u001b[0;34m,\u001b[0m \u001b[0mtitle\u001b[0m\u001b[0;34m=\u001b[0m\u001b[0;34m\"Business Profitability by State\"\u001b[0m\u001b[0;34m)\u001b[0m\u001b[0;34m\u001b[0m\u001b[0;34m\u001b[0m\u001b[0m\n",
      "\u001b[0;32m/opt/anaconda3/lib/python3.8/site-packages/pandas/core/frame.py\u001b[0m in \u001b[0;36mgroupby\u001b[0;34m(self, by, axis, level, as_index, sort, group_keys, squeeze, observed, dropna)\u001b[0m\n\u001b[1;32m   6715\u001b[0m         \u001b[0maxis\u001b[0m \u001b[0;34m=\u001b[0m \u001b[0mself\u001b[0m\u001b[0;34m.\u001b[0m\u001b[0m_get_axis_number\u001b[0m\u001b[0;34m(\u001b[0m\u001b[0maxis\u001b[0m\u001b[0;34m)\u001b[0m\u001b[0;34m\u001b[0m\u001b[0;34m\u001b[0m\u001b[0m\n\u001b[1;32m   6716\u001b[0m \u001b[0;34m\u001b[0m\u001b[0m\n\u001b[0;32m-> 6717\u001b[0;31m         return DataFrameGroupBy(\n\u001b[0m\u001b[1;32m   6718\u001b[0m             \u001b[0mobj\u001b[0m\u001b[0;34m=\u001b[0m\u001b[0mself\u001b[0m\u001b[0;34m,\u001b[0m\u001b[0;34m\u001b[0m\u001b[0;34m\u001b[0m\u001b[0m\n\u001b[1;32m   6719\u001b[0m             \u001b[0mkeys\u001b[0m\u001b[0;34m=\u001b[0m\u001b[0mby\u001b[0m\u001b[0;34m,\u001b[0m\u001b[0;34m\u001b[0m\u001b[0;34m\u001b[0m\u001b[0m\n",
      "\u001b[0;32m/opt/anaconda3/lib/python3.8/site-packages/pandas/core/groupby/groupby.py\u001b[0m in \u001b[0;36m__init__\u001b[0;34m(self, obj, keys, axis, level, grouper, exclusions, selection, as_index, sort, group_keys, squeeze, observed, mutated, dropna)\u001b[0m\n\u001b[1;32m    558\u001b[0m             \u001b[0;32mfrom\u001b[0m \u001b[0mpandas\u001b[0m\u001b[0;34m.\u001b[0m\u001b[0mcore\u001b[0m\u001b[0;34m.\u001b[0m\u001b[0mgroupby\u001b[0m\u001b[0;34m.\u001b[0m\u001b[0mgrouper\u001b[0m \u001b[0;32mimport\u001b[0m \u001b[0mget_grouper\u001b[0m\u001b[0;34m\u001b[0m\u001b[0;34m\u001b[0m\u001b[0m\n\u001b[1;32m    559\u001b[0m \u001b[0;34m\u001b[0m\u001b[0m\n\u001b[0;32m--> 560\u001b[0;31m             grouper, exclusions, obj = get_grouper(\n\u001b[0m\u001b[1;32m    561\u001b[0m                 \u001b[0mobj\u001b[0m\u001b[0;34m,\u001b[0m\u001b[0;34m\u001b[0m\u001b[0;34m\u001b[0m\u001b[0m\n\u001b[1;32m    562\u001b[0m                 \u001b[0mkeys\u001b[0m\u001b[0;34m,\u001b[0m\u001b[0;34m\u001b[0m\u001b[0;34m\u001b[0m\u001b[0m\n",
      "\u001b[0;32m/opt/anaconda3/lib/python3.8/site-packages/pandas/core/groupby/grouper.py\u001b[0m in \u001b[0;36mget_grouper\u001b[0;34m(obj, key, axis, level, sort, observed, mutated, validate, dropna)\u001b[0m\n\u001b[1;32m    809\u001b[0m                 \u001b[0min_axis\u001b[0m\u001b[0;34m,\u001b[0m \u001b[0mname\u001b[0m\u001b[0;34m,\u001b[0m \u001b[0mlevel\u001b[0m\u001b[0;34m,\u001b[0m \u001b[0mgpr\u001b[0m \u001b[0;34m=\u001b[0m \u001b[0;32mFalse\u001b[0m\u001b[0;34m,\u001b[0m \u001b[0;32mNone\u001b[0m\u001b[0;34m,\u001b[0m \u001b[0mgpr\u001b[0m\u001b[0;34m,\u001b[0m \u001b[0;32mNone\u001b[0m\u001b[0;34m\u001b[0m\u001b[0;34m\u001b[0m\u001b[0m\n\u001b[1;32m    810\u001b[0m             \u001b[0;32melse\u001b[0m\u001b[0;34m:\u001b[0m\u001b[0;34m\u001b[0m\u001b[0;34m\u001b[0m\u001b[0m\n\u001b[0;32m--> 811\u001b[0;31m                 \u001b[0;32mraise\u001b[0m \u001b[0mKeyError\u001b[0m\u001b[0;34m(\u001b[0m\u001b[0mgpr\u001b[0m\u001b[0;34m)\u001b[0m\u001b[0;34m\u001b[0m\u001b[0;34m\u001b[0m\u001b[0m\n\u001b[0m\u001b[1;32m    812\u001b[0m         \u001b[0;32melif\u001b[0m \u001b[0misinstance\u001b[0m\u001b[0;34m(\u001b[0m\u001b[0mgpr\u001b[0m\u001b[0;34m,\u001b[0m \u001b[0mGrouper\u001b[0m\u001b[0;34m)\u001b[0m \u001b[0;32mand\u001b[0m \u001b[0mgpr\u001b[0m\u001b[0;34m.\u001b[0m\u001b[0mkey\u001b[0m \u001b[0;32mis\u001b[0m \u001b[0;32mnot\u001b[0m \u001b[0;32mNone\u001b[0m\u001b[0;34m:\u001b[0m\u001b[0;34m\u001b[0m\u001b[0;34m\u001b[0m\u001b[0m\n\u001b[1;32m    813\u001b[0m             \u001b[0;31m# Add key to exclusions\u001b[0m\u001b[0;34m\u001b[0m\u001b[0;34m\u001b[0m\u001b[0;34m\u001b[0m\u001b[0m\n",
      "\u001b[0;31mKeyError\u001b[0m: 'Profitability'"
     ]
    }
   ],
   "source": [
    "state_profit = df.groupby([\"Business State\", \"Profitability\"])[\"Business ID\"].count().unstack(fill_value=0)\n",
    "state_profit.plot(kind=\"bar\", stacked= True, figsize=(10,6), title=\"Business Profitability by State\")"
   ]
  },
  {
   "cell_type": "code",
   "execution_count": 49,
   "id": "07ae07b0-1980-47eb-b9b6-c61c2759baea",
   "metadata": {},
   "outputs": [
    {
     "data": {
      "text/plain": [
       "(array([ 1.,  0.,  1.,  1.,  2., 91., 42.,  7.,  2.,  0.,  1.,  0.,  0.,\n",
       "         0.,  0.,  0.,  0.,  0.,  0.,  0.,  0.,  0.,  0.,  0.,  1.,  0.,\n",
       "         0.,  0.,  0.,  1.]),\n",
       " array([-4.28355193, -3.48476323, -2.68597453, -1.88718583, -1.08839712,\n",
       "        -0.28960842,  0.50918028,  1.30796898,  2.10675768,  2.90554638,\n",
       "         3.70433509,  4.50312379,  5.30191249,  6.10070119,  6.89948989,\n",
       "         7.6982786 ,  8.4970673 ,  9.295856  , 10.0946447 , 10.8934334 ,\n",
       "        11.6922221 , 12.49101081, 13.28979951, 14.08858821, 14.88737691,\n",
       "        15.68616561, 16.48495431, 17.28374302, 18.08253172, 18.88132042,\n",
       "        19.68010912]),\n",
       " <BarContainer object of 30 artists>)"
      ]
     },
     "execution_count": 49,
     "metadata": {},
     "output_type": "execute_result"
    },
    {
     "data": {
      "image/png": "[encoded data removed]",
      "text/plain": [
       "<Figure size 640x480 with 1 Axes>"
      ]
     },
     "metadata": {},
     "output_type": "display_data"
    }
   ],
   "source": [
    "# 2.Histogram – Distribution of Debt-to-Equity\n",
    "plt.hist(df[\"Debt_to_Equity_Calc\"], bins=30, edgecolor=\"black\")"
   ]
  },
  {
   "cell_type": "code",
   "execution_count": null,
   "id": "34d941c0-6fdf-4df1-bbf2-87f15d8f232d",
   "metadata": {},
   "outputs": [],
   "source": [
    "# 3. Pie Chart – Profitability\n",
    "# Create a new column for Profitability\n",
    "df[\"Profitability\"] = df[\"Profit Margin\"].apply(lambda x: \"Profitable\" if x > 0 else \"Not Profitable\")"
   ]
  }
 ],
 "metadata": {
  "kernelspec": {
   "display_name": "Python 3 (ipykernel)",
   "language": "python",
   "name": "python3"
  },
  "language_info": {
   "codemirror_mode": {
    "name": "ipython",
    "version": 3
   },
   "file_extension": ".py",
   "mimetype": "text/x-python",
   "name": "python",
   "nbconvert_exporter": "python",
   "pygments_lexer": "ipython3",
   "version": "3.8.8"
  }
 },
 "nbformat": 4,
 "nbformat_minor": 5
}
